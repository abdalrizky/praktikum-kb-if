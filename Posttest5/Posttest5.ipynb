{
  "nbformat": 4,
  "nbformat_minor": 0,
  "metadata": {
    "colab": {
      "provenance": []
    },
    "kernelspec": {
      "name": "python3",
      "display_name": "Python 3"
    },
    "language_info": {
      "name": "python"
    }
  },
  "cells": [
    {
      "cell_type": "markdown",
      "source": [
        "Nama: Muhammad Abdal Rizky\\\n",
        "NIM: 2309106012"
      ],
      "metadata": {
        "id": "5ICKPnLseN9z"
      }
    },
    {
      "cell_type": "markdown",
      "source": [
        "# Posttest 5"
      ],
      "metadata": {
        "id": "AiiQph-4ClFh"
      }
    },
    {
      "cell_type": "code",
      "source": [
        "import pandas as pd\n",
        "import tensorflow as tf\n",
        "from sklearn.model_selection import train_test_split\n",
        "from sklearn.preprocessing import StandardScaler, OneHotEncoder\n",
        "from sklearn.compose import ColumnTransformer\n",
        "from sklearn.pipeline import Pipeline\n",
        "from sklearn.preprocessing import LabelEncoder\n",
        "import matplotlib.pyplot as plt\n",
        "import numpy as np"
      ],
      "metadata": {
        "id": "faRsYDXBekMC"
      },
      "execution_count": 1,
      "outputs": []
    },
    {
      "cell_type": "markdown",
      "source": [
        "- Membaca file dataset"
      ],
      "metadata": {
        "id": "FLomdsA9pfbE"
      }
    },
    {
      "cell_type": "code",
      "source": [
        "df = pd.read_csv('Sleep_health_and_lifestyle_dataset.csv')"
      ],
      "metadata": {
        "id": "tXF-QNNselfD"
      },
      "execution_count": 2,
      "outputs": []
    },
    {
      "cell_type": "markdown",
      "source": [
        "- Menghapus kolom person ID karena tidak kita butuhkan"
      ],
      "metadata": {
        "id": "4kmX_nitqPxf"
      }
    },
    {
      "cell_type": "code",
      "source": [
        "df = df.drop('Person ID', axis=1)"
      ],
      "metadata": {
        "id": "M_lUrJUreofh"
      },
      "execution_count": 3,
      "outputs": []
    },
    {
      "cell_type": "markdown",
      "source": [
        "- Karena Tekanan Darah memiliki nilai sistolik dan diastolik, kita pisahkan menjadi dua kolom"
      ],
      "metadata": {
        "id": "-8fb8OrXpmj1"
      }
    },
    {
      "cell_type": "code",
      "source": [
        "df[['Systolic_BP', 'Diastolic_BP']] = df['Blood Pressure'].str.split('/', expand=True)\n",
        "df['Systolic_BP'] = pd.to_numeric(df['Systolic_BP'])\n",
        "df['Diastolic_BP'] = pd.to_numeric(df['Diastolic_BP'])\n",
        "df = df.drop('Blood Pressure', axis=1)"
      ],
      "metadata": {
        "id": "kx8nPQGKerFU"
      },
      "execution_count": 4,
      "outputs": []
    },
    {
      "cell_type": "markdown",
      "source": [
        "- Mengidentifikasi fitur numerik dan kategorikal"
      ],
      "metadata": {
        "id": "L0ICFQf6p8JO"
      }
    },
    {
      "cell_type": "code",
      "source": [
        "numerical_features = df.select_dtypes(include=np.number).columns.tolist()\n",
        "categorical_features = df.select_dtypes(exclude=np.number).columns.tolist()"
      ],
      "metadata": {
        "id": "GQMhGOTqet_T"
      },
      "execution_count": 5,
      "outputs": []
    },
    {
      "cell_type": "markdown",
      "source": [
        "- Menghapus target dari daftar fitur kategorikal"
      ],
      "metadata": {
        "id": "mAJQmvOotRzV"
      }
    },
    {
      "cell_type": "code",
      "source": [
        "target_column = 'Sleep Disorder'\n",
        "categorical_features.remove(target_column)"
      ],
      "metadata": {
        "id": "pMQcFcXxtN7r"
      },
      "execution_count": 6,
      "outputs": []
    },
    {
      "cell_type": "markdown",
      "source": [
        "- Memisahkan fitur (X) dan target (y)"
      ],
      "metadata": {
        "id": "8V2ogV0gp90z"
      }
    },
    {
      "cell_type": "code",
      "source": [
        "X = df.drop(target_column, axis=1)\n",
        "y = df[target_column]"
      ],
      "metadata": {
        "id": "bQOKsaswewN0"
      },
      "execution_count": 7,
      "outputs": []
    },
    {
      "cell_type": "markdown",
      "source": [
        "- Mengkodekan variabel target"
      ],
      "metadata": {
        "id": "F5R_3uL5qFBO"
      }
    },
    {
      "cell_type": "code",
      "source": [
        "label_encoder = LabelEncoder()\n",
        "y_encoded = label_encoder.fit_transform(y)\n",
        "y_categorical = tf.keras.utils.to_categorical(y_encoded)"
      ],
      "metadata": {
        "id": "vyW18SYdezSr"
      },
      "execution_count": 8,
      "outputs": []
    },
    {
      "cell_type": "markdown",
      "source": [
        "Di bawah ini kita:\n",
        "- Membuat pipeline pra-pemrosesan untuk fitur\n",
        "- Untuk fitur numerik, kita akan melakukan penskalaan\n",
        "- Untuk fitur kategorikal, kita akan melakukan one-hot encoding"
      ],
      "metadata": {
        "id": "I138BjnuoIQ0"
      }
    },
    {
      "cell_type": "code",
      "source": [
        "preprocessor = ColumnTransformer(\n",
        "    transformers=[\n",
        "        ('num', StandardScaler(), numerical_features),\n",
        "        ('cat', OneHotEncoder(handle_unknown='ignore'), categorical_features)\n",
        "    ])"
      ],
      "metadata": {
        "id": "KQUTmJoHe40N"
      },
      "execution_count": 9,
      "outputs": []
    },
    {
      "cell_type": "markdown",
      "source": [
        "- Membagi data menjadi data latih (*training*) dan data validasi (*validation*)"
      ],
      "metadata": {
        "id": "NqI2w3DloWWW"
      }
    },
    {
      "cell_type": "code",
      "source": [
        "X_train, X_val, y_train, y_val = train_test_split(X, y_categorical, test_size=0.2, random_state=42, stratify=y_categorical)"
      ],
      "metadata": {
        "id": "_RI3N8Xwe77F"
      },
      "execution_count": 10,
      "outputs": []
    },
    {
      "cell_type": "markdown",
      "source": [
        "- Mengaplikasikan pipeline pra-pemrosesan"
      ],
      "metadata": {
        "id": "9pYW-CRhocfj"
      }
    },
    {
      "cell_type": "code",
      "source": [
        "X_train_processed = preprocessor.fit_transform(X_train)\n",
        "X_val_processed = preprocessor.transform(X_val)"
      ],
      "metadata": {
        "id": "Ak2k3ZXbe-za"
      },
      "execution_count": 11,
      "outputs": []
    },
    {
      "cell_type": "markdown",
      "source": [
        "- Mendapatkan jumlah fitur setelah pra-pemrosesan untuk lapisan input model"
      ],
      "metadata": {
        "id": "7ECET9fzoesu"
      }
    },
    {
      "cell_type": "code",
      "source": [
        "input_dim = X_train_processed.shape[1]\n",
        "output_dim = y_categorical.shape[1]"
      ],
      "metadata": {
        "id": "HHwb29BHfCr6"
      },
      "execution_count": 12,
      "outputs": []
    },
    {
      "cell_type": "markdown",
      "source": [
        "- Membangun Model Sekuensial Sederhana"
      ],
      "metadata": {
        "id": "_sWDg2AYomt1"
      }
    },
    {
      "cell_type": "code",
      "source": [
        "model = tf.keras.models.Sequential([\n",
        "    # Lapisan input dengan jumlah neuron sebanyak fitur dan fungsi aktivasi ReLU\n",
        "    tf.keras.layers.Dense(32, activation='relu', input_shape=(input_dim,)),\n",
        "    # Lapisan tersembunyi (hidden layer) pertama\n",
        "    tf.keras.layers.Dense(16, activation='relu'),\n",
        "    # Lapisan output dengan jumlah neuron sebanyak kelas target dan fungsi aktivasi softmax untuk klasifikasi multi-kelas\n",
        "    tf.keras.layers.Dense(output_dim, activation='softmax')\n",
        "])\n",
        "\n",
        "# Kompilasi kode\n",
        "model.compile(\n",
        "    optimizer='adam',\n",
        "    loss='categorical_crossentropy',\n",
        "    metrics=['accuracy']\n",
        ")\n",
        "\n",
        "print(\"Ringkasan Model:\")\n",
        "model.summary()"
      ],
      "metadata": {
        "colab": {
          "base_uri": "https://localhost:8080/",
          "height": 305
        },
        "id": "lrAJiS_2fEoM",
        "outputId": "ad759298-e8a3-4987-f0e8-6e34b7390b79"
      },
      "execution_count": 13,
      "outputs": [
        {
          "output_type": "stream",
          "name": "stdout",
          "text": [
            "Ringkasan Model:\n"
          ]
        },
        {
          "output_type": "stream",
          "name": "stderr",
          "text": [
            "/usr/local/lib/python3.12/dist-packages/keras/src/layers/core/dense.py:93: UserWarning: Do not pass an `input_shape`/`input_dim` argument to a layer. When using Sequential models, prefer using an `Input(shape)` object as the first layer in the model instead.\n",
            "  super().__init__(activity_regularizer=activity_regularizer, **kwargs)\n"
          ]
        },
        {
          "output_type": "display_data",
          "data": {
            "text/plain": [
              "\u001b[1mModel: \"sequential\"\u001b[0m\n"
            ],
            "text/html": [
              "<pre style=\"white-space:pre;overflow-x:auto;line-height:normal;font-family:Menlo,'DejaVu Sans Mono',consolas,'Courier New',monospace\"><span style=\"font-weight: bold\">Model: \"sequential\"</span>\n",
              "</pre>\n"
            ]
          },
          "metadata": {}
        },
        {
          "output_type": "display_data",
          "data": {
            "text/plain": [
              "┏━━━━━━━━━━━━━━━━━━━━━━━━━━━━━━━━━┳━━━━━━━━━━━━━━━━━━━━━━━━┳━━━━━━━━━━━━━━━┓\n",
              "┃\u001b[1m \u001b[0m\u001b[1mLayer (type)                   \u001b[0m\u001b[1m \u001b[0m┃\u001b[1m \u001b[0m\u001b[1mOutput Shape          \u001b[0m\u001b[1m \u001b[0m┃\u001b[1m \u001b[0m\u001b[1m      Param #\u001b[0m\u001b[1m \u001b[0m┃\n",
              "┡━━━━━━━━━━━━━━━━━━━━━━━━━━━━━━━━━╇━━━━━━━━━━━━━━━━━━━━━━━━╇━━━━━━━━━━━━━━━┩\n",
              "│ dense (\u001b[38;5;33mDense\u001b[0m)                   │ (\u001b[38;5;45mNone\u001b[0m, \u001b[38;5;34m32\u001b[0m)             │           \u001b[38;5;34m832\u001b[0m │\n",
              "├─────────────────────────────────┼────────────────────────┼───────────────┤\n",
              "│ dense_1 (\u001b[38;5;33mDense\u001b[0m)                 │ (\u001b[38;5;45mNone\u001b[0m, \u001b[38;5;34m16\u001b[0m)             │           \u001b[38;5;34m528\u001b[0m │\n",
              "├─────────────────────────────────┼────────────────────────┼───────────────┤\n",
              "│ dense_2 (\u001b[38;5;33mDense\u001b[0m)                 │ (\u001b[38;5;45mNone\u001b[0m, \u001b[38;5;34m3\u001b[0m)              │            \u001b[38;5;34m51\u001b[0m │\n",
              "└─────────────────────────────────┴────────────────────────┴───────────────┘\n"
            ],
            "text/html": [
              "<pre style=\"white-space:pre;overflow-x:auto;line-height:normal;font-family:Menlo,'DejaVu Sans Mono',consolas,'Courier New',monospace\">┏━━━━━━━━━━━━━━━━━━━━━━━━━━━━━━━━━┳━━━━━━━━━━━━━━━━━━━━━━━━┳━━━━━━━━━━━━━━━┓\n",
              "┃<span style=\"font-weight: bold\"> Layer (type)                    </span>┃<span style=\"font-weight: bold\"> Output Shape           </span>┃<span style=\"font-weight: bold\">       Param # </span>┃\n",
              "┡━━━━━━━━━━━━━━━━━━━━━━━━━━━━━━━━━╇━━━━━━━━━━━━━━━━━━━━━━━━╇━━━━━━━━━━━━━━━┩\n",
              "│ dense (<span style=\"color: #0087ff; text-decoration-color: #0087ff\">Dense</span>)                   │ (<span style=\"color: #00d7ff; text-decoration-color: #00d7ff\">None</span>, <span style=\"color: #00af00; text-decoration-color: #00af00\">32</span>)             │           <span style=\"color: #00af00; text-decoration-color: #00af00\">832</span> │\n",
              "├─────────────────────────────────┼────────────────────────┼───────────────┤\n",
              "│ dense_1 (<span style=\"color: #0087ff; text-decoration-color: #0087ff\">Dense</span>)                 │ (<span style=\"color: #00d7ff; text-decoration-color: #00d7ff\">None</span>, <span style=\"color: #00af00; text-decoration-color: #00af00\">16</span>)             │           <span style=\"color: #00af00; text-decoration-color: #00af00\">528</span> │\n",
              "├─────────────────────────────────┼────────────────────────┼───────────────┤\n",
              "│ dense_2 (<span style=\"color: #0087ff; text-decoration-color: #0087ff\">Dense</span>)                 │ (<span style=\"color: #00d7ff; text-decoration-color: #00d7ff\">None</span>, <span style=\"color: #00af00; text-decoration-color: #00af00\">3</span>)              │            <span style=\"color: #00af00; text-decoration-color: #00af00\">51</span> │\n",
              "└─────────────────────────────────┴────────────────────────┴───────────────┘\n",
              "</pre>\n"
            ]
          },
          "metadata": {}
        },
        {
          "output_type": "display_data",
          "data": {
            "text/plain": [
              "\u001b[1m Total params: \u001b[0m\u001b[38;5;34m1,411\u001b[0m (5.51 KB)\n"
            ],
            "text/html": [
              "<pre style=\"white-space:pre;overflow-x:auto;line-height:normal;font-family:Menlo,'DejaVu Sans Mono',consolas,'Courier New',monospace\"><span style=\"font-weight: bold\"> Total params: </span><span style=\"color: #00af00; text-decoration-color: #00af00\">1,411</span> (5.51 KB)\n",
              "</pre>\n"
            ]
          },
          "metadata": {}
        },
        {
          "output_type": "display_data",
          "data": {
            "text/plain": [
              "\u001b[1m Trainable params: \u001b[0m\u001b[38;5;34m1,411\u001b[0m (5.51 KB)\n"
            ],
            "text/html": [
              "<pre style=\"white-space:pre;overflow-x:auto;line-height:normal;font-family:Menlo,'DejaVu Sans Mono',consolas,'Courier New',monospace\"><span style=\"font-weight: bold\"> Trainable params: </span><span style=\"color: #00af00; text-decoration-color: #00af00\">1,411</span> (5.51 KB)\n",
              "</pre>\n"
            ]
          },
          "metadata": {}
        },
        {
          "output_type": "display_data",
          "data": {
            "text/plain": [
              "\u001b[1m Non-trainable params: \u001b[0m\u001b[38;5;34m0\u001b[0m (0.00 B)\n"
            ],
            "text/html": [
              "<pre style=\"white-space:pre;overflow-x:auto;line-height:normal;font-family:Menlo,'DejaVu Sans Mono',consolas,'Courier New',monospace\"><span style=\"font-weight: bold\"> Non-trainable params: </span><span style=\"color: #00af00; text-decoration-color: #00af00\">0</span> (0.00 B)\n",
              "</pre>\n"
            ]
          },
          "metadata": {}
        }
      ]
    },
    {
      "cell_type": "markdown",
      "source": [
        "Kode di atas mendefinisikan struktur model neural network kita, yang terdiri dari satu layer input, satu layer tersembunyi (*hidden layer*), dan satu layer output, kemudian menyiapkan model tersebut dengan optimizer, fungsi loss, dan metrik yang akan digunakan untuk pelatihan."
      ],
      "metadata": {
        "id": "iOb0ysKDFgoV"
      }
    },
    {
      "cell_type": "markdown",
      "source": [
        "- Melatih model"
      ],
      "metadata": {
        "id": "rwBj-h-Ko0Y8"
      }
    },
    {
      "cell_type": "code",
      "source": [
        "print(\"Memulai proses training model...\")\n",
        "history = model.fit(\n",
        "    X_train_processed,\n",
        "    y_train,\n",
        "    epochs=100,\n",
        "    batch_size=16,\n",
        "    validation_data=(X_val_processed, y_val),\n",
        "    verbose=2\n",
        ")\n",
        "print(\"Training model selesai.\")"
      ],
      "metadata": {
        "colab": {
          "base_uri": "https://localhost:8080/"
        },
        "id": "gh54tv9ifHNS",
        "outputId": "79abe995-9232-46ef-a0f5-106e58ccbe87"
      },
      "execution_count": 14,
      "outputs": [
        {
          "output_type": "stream",
          "name": "stdout",
          "text": [
            "Memulai proses training model...\n",
            "Epoch 1/100\n",
            "19/19 - 2s - 92ms/step - accuracy: 0.5987 - loss: 0.9648 - val_accuracy: 0.7600 - val_loss: 0.8216\n",
            "Epoch 2/100\n",
            "19/19 - 0s - 9ms/step - accuracy: 0.8094 - loss: 0.7259 - val_accuracy: 0.8267 - val_loss: 0.6807\n",
            "Epoch 3/100\n",
            "19/19 - 0s - 18ms/step - accuracy: 0.8227 - loss: 0.5934 - val_accuracy: 0.8133 - val_loss: 0.5906\n",
            "Epoch 4/100\n",
            "19/19 - 0s - 9ms/step - accuracy: 0.8696 - loss: 0.5090 - val_accuracy: 0.8800 - val_loss: 0.5380\n",
            "Epoch 5/100\n",
            "19/19 - 0s - 11ms/step - accuracy: 0.8997 - loss: 0.4525 - val_accuracy: 0.8667 - val_loss: 0.4978\n",
            "Epoch 6/100\n",
            "19/19 - 0s - 12ms/step - accuracy: 0.9064 - loss: 0.4104 - val_accuracy: 0.8667 - val_loss: 0.4679\n",
            "Epoch 7/100\n",
            "19/19 - 0s - 6ms/step - accuracy: 0.9064 - loss: 0.3853 - val_accuracy: 0.8533 - val_loss: 0.4472\n",
            "Epoch 8/100\n",
            "19/19 - 0s - 6ms/step - accuracy: 0.9130 - loss: 0.3674 - val_accuracy: 0.8533 - val_loss: 0.4325\n",
            "Epoch 9/100\n",
            "19/19 - 0s - 6ms/step - accuracy: 0.9130 - loss: 0.3524 - val_accuracy: 0.8533 - val_loss: 0.4221\n",
            "Epoch 10/100\n",
            "19/19 - 0s - 6ms/step - accuracy: 0.9097 - loss: 0.3444 - val_accuracy: 0.8667 - val_loss: 0.4153\n",
            "Epoch 11/100\n",
            "19/19 - 0s - 6ms/step - accuracy: 0.9130 - loss: 0.3364 - val_accuracy: 0.8667 - val_loss: 0.4123\n",
            "Epoch 12/100\n",
            "19/19 - 0s - 6ms/step - accuracy: 0.9164 - loss: 0.3306 - val_accuracy: 0.8667 - val_loss: 0.4134\n",
            "Epoch 13/100\n",
            "19/19 - 0s - 6ms/step - accuracy: 0.9164 - loss: 0.3251 - val_accuracy: 0.8800 - val_loss: 0.4073\n",
            "Epoch 14/100\n",
            "19/19 - 0s - 6ms/step - accuracy: 0.9197 - loss: 0.3205 - val_accuracy: 0.8800 - val_loss: 0.4071\n",
            "Epoch 15/100\n",
            "19/19 - 0s - 6ms/step - accuracy: 0.9231 - loss: 0.3163 - val_accuracy: 0.8800 - val_loss: 0.4074\n",
            "Epoch 16/100\n",
            "19/19 - 0s - 7ms/step - accuracy: 0.9231 - loss: 0.3126 - val_accuracy: 0.8800 - val_loss: 0.4091\n",
            "Epoch 17/100\n",
            "19/19 - 0s - 7ms/step - accuracy: 0.9231 - loss: 0.3090 - val_accuracy: 0.8800 - val_loss: 0.4082\n",
            "Epoch 18/100\n",
            "19/19 - 0s - 6ms/step - accuracy: 0.9231 - loss: 0.3060 - val_accuracy: 0.8800 - val_loss: 0.4088\n",
            "Epoch 19/100\n",
            "19/19 - 0s - 6ms/step - accuracy: 0.9231 - loss: 0.3035 - val_accuracy: 0.8800 - val_loss: 0.4097\n",
            "Epoch 20/100\n",
            "19/19 - 0s - 6ms/step - accuracy: 0.9231 - loss: 0.3009 - val_accuracy: 0.8800 - val_loss: 0.4028\n",
            "Epoch 21/100\n",
            "19/19 - 0s - 6ms/step - accuracy: 0.9231 - loss: 0.2978 - val_accuracy: 0.8800 - val_loss: 0.4057\n",
            "Epoch 22/100\n",
            "19/19 - 0s - 6ms/step - accuracy: 0.9231 - loss: 0.2950 - val_accuracy: 0.8800 - val_loss: 0.4060\n",
            "Epoch 23/100\n",
            "19/19 - 0s - 6ms/step - accuracy: 0.9231 - loss: 0.2924 - val_accuracy: 0.8800 - val_loss: 0.4079\n",
            "Epoch 24/100\n",
            "19/19 - 0s - 6ms/step - accuracy: 0.9231 - loss: 0.2920 - val_accuracy: 0.8800 - val_loss: 0.4083\n",
            "Epoch 25/100\n",
            "19/19 - 0s - 7ms/step - accuracy: 0.9264 - loss: 0.2900 - val_accuracy: 0.8800 - val_loss: 0.4063\n",
            "Epoch 26/100\n",
            "19/19 - 0s - 6ms/step - accuracy: 0.9231 - loss: 0.2876 - val_accuracy: 0.8800 - val_loss: 0.4041\n",
            "Epoch 27/100\n",
            "19/19 - 0s - 6ms/step - accuracy: 0.9231 - loss: 0.2869 - val_accuracy: 0.8800 - val_loss: 0.4093\n",
            "Epoch 28/100\n",
            "19/19 - 0s - 6ms/step - accuracy: 0.9298 - loss: 0.2847 - val_accuracy: 0.8800 - val_loss: 0.4098\n",
            "Epoch 29/100\n",
            "19/19 - 0s - 6ms/step - accuracy: 0.9298 - loss: 0.2823 - val_accuracy: 0.8800 - val_loss: 0.4114\n",
            "Epoch 30/100\n",
            "19/19 - 0s - 6ms/step - accuracy: 0.9298 - loss: 0.2803 - val_accuracy: 0.8933 - val_loss: 0.4119\n",
            "Epoch 31/100\n",
            "19/19 - 0s - 6ms/step - accuracy: 0.9298 - loss: 0.2805 - val_accuracy: 0.8800 - val_loss: 0.4125\n",
            "Epoch 32/100\n",
            "19/19 - 0s - 6ms/step - accuracy: 0.9298 - loss: 0.2765 - val_accuracy: 0.8933 - val_loss: 0.4121\n",
            "Epoch 33/100\n",
            "19/19 - 0s - 6ms/step - accuracy: 0.9264 - loss: 0.2780 - val_accuracy: 0.8800 - val_loss: 0.4123\n",
            "Epoch 34/100\n",
            "19/19 - 0s - 7ms/step - accuracy: 0.9298 - loss: 0.2790 - val_accuracy: 0.8800 - val_loss: 0.4108\n",
            "Epoch 35/100\n",
            "19/19 - 0s - 6ms/step - accuracy: 0.9298 - loss: 0.2739 - val_accuracy: 0.8800 - val_loss: 0.4135\n",
            "Epoch 36/100\n",
            "19/19 - 0s - 6ms/step - accuracy: 0.9298 - loss: 0.2726 - val_accuracy: 0.8800 - val_loss: 0.4166\n",
            "Epoch 37/100\n",
            "19/19 - 0s - 6ms/step - accuracy: 0.9298 - loss: 0.2725 - val_accuracy: 0.8800 - val_loss: 0.4186\n",
            "Epoch 38/100\n",
            "19/19 - 0s - 6ms/step - accuracy: 0.9298 - loss: 0.2687 - val_accuracy: 0.8800 - val_loss: 0.4191\n",
            "Epoch 39/100\n",
            "19/19 - 0s - 6ms/step - accuracy: 0.9298 - loss: 0.2687 - val_accuracy: 0.8800 - val_loss: 0.4188\n",
            "Epoch 40/100\n",
            "19/19 - 0s - 6ms/step - accuracy: 0.9298 - loss: 0.2687 - val_accuracy: 0.8800 - val_loss: 0.4212\n",
            "Epoch 41/100\n",
            "19/19 - 0s - 6ms/step - accuracy: 0.9298 - loss: 0.2671 - val_accuracy: 0.8800 - val_loss: 0.4197\n",
            "Epoch 42/100\n",
            "19/19 - 0s - 6ms/step - accuracy: 0.9264 - loss: 0.2665 - val_accuracy: 0.8800 - val_loss: 0.4224\n",
            "Epoch 43/100\n",
            "19/19 - 0s - 7ms/step - accuracy: 0.9298 - loss: 0.2649 - val_accuracy: 0.8800 - val_loss: 0.4204\n",
            "Epoch 44/100\n",
            "19/19 - 0s - 6ms/step - accuracy: 0.9298 - loss: 0.2662 - val_accuracy: 0.8800 - val_loss: 0.4264\n",
            "Epoch 45/100\n",
            "19/19 - 0s - 6ms/step - accuracy: 0.9298 - loss: 0.2640 - val_accuracy: 0.8667 - val_loss: 0.4271\n",
            "Epoch 46/100\n",
            "19/19 - 0s - 6ms/step - accuracy: 0.9331 - loss: 0.2634 - val_accuracy: 0.8800 - val_loss: 0.4291\n",
            "Epoch 47/100\n",
            "19/19 - 0s - 6ms/step - accuracy: 0.9298 - loss: 0.2616 - val_accuracy: 0.8667 - val_loss: 0.4313\n",
            "Epoch 48/100\n",
            "19/19 - 0s - 6ms/step - accuracy: 0.9331 - loss: 0.2601 - val_accuracy: 0.8667 - val_loss: 0.4304\n",
            "Epoch 49/100\n",
            "19/19 - 0s - 6ms/step - accuracy: 0.9331 - loss: 0.2606 - val_accuracy: 0.8667 - val_loss: 0.4350\n",
            "Epoch 50/100\n",
            "19/19 - 0s - 6ms/step - accuracy: 0.9298 - loss: 0.2585 - val_accuracy: 0.8667 - val_loss: 0.4334\n",
            "Epoch 51/100\n",
            "19/19 - 0s - 6ms/step - accuracy: 0.9264 - loss: 0.2592 - val_accuracy: 0.8667 - val_loss: 0.4344\n",
            "Epoch 52/100\n",
            "19/19 - 0s - 7ms/step - accuracy: 0.9331 - loss: 0.2594 - val_accuracy: 0.8667 - val_loss: 0.4353\n",
            "Epoch 53/100\n",
            "19/19 - 0s - 6ms/step - accuracy: 0.9331 - loss: 0.2564 - val_accuracy: 0.8667 - val_loss: 0.4371\n",
            "Epoch 54/100\n",
            "19/19 - 0s - 6ms/step - accuracy: 0.9298 - loss: 0.2565 - val_accuracy: 0.8667 - val_loss: 0.4395\n",
            "Epoch 55/100\n",
            "19/19 - 0s - 6ms/step - accuracy: 0.9331 - loss: 0.2561 - val_accuracy: 0.8667 - val_loss: 0.4404\n",
            "Epoch 56/100\n",
            "19/19 - 0s - 6ms/step - accuracy: 0.9298 - loss: 0.2573 - val_accuracy: 0.8667 - val_loss: 0.4375\n",
            "Epoch 57/100\n",
            "19/19 - 0s - 6ms/step - accuracy: 0.9331 - loss: 0.2540 - val_accuracy: 0.8667 - val_loss: 0.4423\n",
            "Epoch 58/100\n",
            "19/19 - 0s - 6ms/step - accuracy: 0.9298 - loss: 0.2553 - val_accuracy: 0.8667 - val_loss: 0.4422\n",
            "Epoch 59/100\n",
            "19/19 - 0s - 6ms/step - accuracy: 0.9331 - loss: 0.2526 - val_accuracy: 0.8667 - val_loss: 0.4454\n",
            "Epoch 60/100\n",
            "19/19 - 0s - 6ms/step - accuracy: 0.9331 - loss: 0.2533 - val_accuracy: 0.8667 - val_loss: 0.4437\n",
            "Epoch 61/100\n",
            "19/19 - 0s - 7ms/step - accuracy: 0.9298 - loss: 0.2542 - val_accuracy: 0.8667 - val_loss: 0.4458\n",
            "Epoch 62/100\n",
            "19/19 - 0s - 6ms/step - accuracy: 0.9298 - loss: 0.2530 - val_accuracy: 0.8667 - val_loss: 0.4467\n",
            "Epoch 63/100\n",
            "19/19 - 0s - 6ms/step - accuracy: 0.9298 - loss: 0.2525 - val_accuracy: 0.8667 - val_loss: 0.4504\n",
            "Epoch 64/100\n",
            "19/19 - 0s - 6ms/step - accuracy: 0.9298 - loss: 0.2515 - val_accuracy: 0.8667 - val_loss: 0.4513\n",
            "Epoch 65/100\n",
            "19/19 - 0s - 7ms/step - accuracy: 0.9331 - loss: 0.2507 - val_accuracy: 0.8667 - val_loss: 0.4547\n",
            "Epoch 66/100\n",
            "19/19 - 0s - 6ms/step - accuracy: 0.9331 - loss: 0.2508 - val_accuracy: 0.8667 - val_loss: 0.4536\n",
            "Epoch 67/100\n",
            "19/19 - 0s - 6ms/step - accuracy: 0.9298 - loss: 0.2520 - val_accuracy: 0.8667 - val_loss: 0.4534\n",
            "Epoch 68/100\n",
            "19/19 - 0s - 6ms/step - accuracy: 0.9298 - loss: 0.2502 - val_accuracy: 0.8667 - val_loss: 0.4566\n",
            "Epoch 69/100\n",
            "19/19 - 0s - 6ms/step - accuracy: 0.9298 - loss: 0.2489 - val_accuracy: 0.8667 - val_loss: 0.4594\n",
            "Epoch 70/100\n",
            "19/19 - 0s - 6ms/step - accuracy: 0.9298 - loss: 0.2505 - val_accuracy: 0.8667 - val_loss: 0.4590\n",
            "Epoch 71/100\n",
            "19/19 - 0s - 6ms/step - accuracy: 0.9331 - loss: 0.2510 - val_accuracy: 0.8667 - val_loss: 0.4619\n",
            "Epoch 72/100\n",
            "19/19 - 0s - 6ms/step - accuracy: 0.9331 - loss: 0.2483 - val_accuracy: 0.8667 - val_loss: 0.4601\n",
            "Epoch 73/100\n",
            "19/19 - 0s - 6ms/step - accuracy: 0.9331 - loss: 0.2487 - val_accuracy: 0.8667 - val_loss: 0.4654\n",
            "Epoch 74/100\n",
            "19/19 - 0s - 6ms/step - accuracy: 0.9331 - loss: 0.2476 - val_accuracy: 0.8667 - val_loss: 0.4642\n",
            "Epoch 75/100\n",
            "19/19 - 0s - 6ms/step - accuracy: 0.9331 - loss: 0.2467 - val_accuracy: 0.8667 - val_loss: 0.4670\n",
            "Epoch 76/100\n",
            "19/19 - 0s - 6ms/step - accuracy: 0.9331 - loss: 0.2464 - val_accuracy: 0.8667 - val_loss: 0.4663\n",
            "Epoch 77/100\n",
            "19/19 - 0s - 6ms/step - accuracy: 0.9331 - loss: 0.2459 - val_accuracy: 0.8667 - val_loss: 0.4685\n",
            "Epoch 78/100\n",
            "19/19 - 0s - 7ms/step - accuracy: 0.9331 - loss: 0.2469 - val_accuracy: 0.8667 - val_loss: 0.4660\n",
            "Epoch 79/100\n",
            "19/19 - 0s - 6ms/step - accuracy: 0.9331 - loss: 0.2452 - val_accuracy: 0.8667 - val_loss: 0.4679\n",
            "Epoch 80/100\n",
            "19/19 - 0s - 6ms/step - accuracy: 0.9331 - loss: 0.2443 - val_accuracy: 0.8667 - val_loss: 0.4723\n",
            "Epoch 81/100\n",
            "19/19 - 0s - 6ms/step - accuracy: 0.9298 - loss: 0.2454 - val_accuracy: 0.8667 - val_loss: 0.4797\n",
            "Epoch 82/100\n",
            "19/19 - 0s - 6ms/step - accuracy: 0.9331 - loss: 0.2442 - val_accuracy: 0.8667 - val_loss: 0.4768\n",
            "Epoch 83/100\n",
            "19/19 - 0s - 6ms/step - accuracy: 0.9331 - loss: 0.2447 - val_accuracy: 0.8667 - val_loss: 0.4737\n",
            "Epoch 84/100\n",
            "19/19 - 0s - 8ms/step - accuracy: 0.9331 - loss: 0.2444 - val_accuracy: 0.8667 - val_loss: 0.4780\n",
            "Epoch 85/100\n",
            "19/19 - 0s - 6ms/step - accuracy: 0.9298 - loss: 0.2464 - val_accuracy: 0.8667 - val_loss: 0.4796\n",
            "Epoch 86/100\n",
            "19/19 - 0s - 6ms/step - accuracy: 0.9331 - loss: 0.2457 - val_accuracy: 0.8667 - val_loss: 0.4831\n",
            "Epoch 87/100\n",
            "19/19 - 0s - 7ms/step - accuracy: 0.9331 - loss: 0.2439 - val_accuracy: 0.8667 - val_loss: 0.4874\n",
            "Epoch 88/100\n",
            "19/19 - 0s - 6ms/step - accuracy: 0.9331 - loss: 0.2442 - val_accuracy: 0.8667 - val_loss: 0.4859\n",
            "Epoch 89/100\n",
            "19/19 - 0s - 6ms/step - accuracy: 0.9331 - loss: 0.2417 - val_accuracy: 0.8667 - val_loss: 0.4838\n",
            "Epoch 90/100\n",
            "19/19 - 0s - 8ms/step - accuracy: 0.9331 - loss: 0.2442 - val_accuracy: 0.8667 - val_loss: 0.4840\n",
            "Epoch 91/100\n",
            "19/19 - 0s - 10ms/step - accuracy: 0.9331 - loss: 0.2429 - val_accuracy: 0.8667 - val_loss: 0.4899\n",
            "Epoch 92/100\n",
            "19/19 - 0s - 15ms/step - accuracy: 0.9331 - loss: 0.2429 - val_accuracy: 0.8667 - val_loss: 0.4889\n",
            "Epoch 93/100\n",
            "19/19 - 0s - 16ms/step - accuracy: 0.9331 - loss: 0.2455 - val_accuracy: 0.8667 - val_loss: 0.4854\n",
            "Epoch 94/100\n",
            "19/19 - 0s - 16ms/step - accuracy: 0.9298 - loss: 0.2427 - val_accuracy: 0.8667 - val_loss: 0.4915\n",
            "Epoch 95/100\n",
            "19/19 - 0s - 9ms/step - accuracy: 0.9331 - loss: 0.2431 - val_accuracy: 0.8667 - val_loss: 0.4912\n",
            "Epoch 96/100\n",
            "19/19 - 0s - 16ms/step - accuracy: 0.9331 - loss: 0.2414 - val_accuracy: 0.8667 - val_loss: 0.4939\n",
            "Epoch 97/100\n",
            "19/19 - 0s - 11ms/step - accuracy: 0.9331 - loss: 0.2417 - val_accuracy: 0.8667 - val_loss: 0.4936\n",
            "Epoch 98/100\n",
            "19/19 - 0s - 13ms/step - accuracy: 0.9298 - loss: 0.2416 - val_accuracy: 0.8667 - val_loss: 0.4999\n",
            "Epoch 99/100\n",
            "19/19 - 0s - 6ms/step - accuracy: 0.9331 - loss: 0.2411 - val_accuracy: 0.8667 - val_loss: 0.4933\n",
            "Epoch 100/100\n",
            "19/19 - 0s - 6ms/step - accuracy: 0.9331 - loss: 0.2411 - val_accuracy: 0.8667 - val_loss: 0.4963\n",
            "Training model selesai.\n"
          ]
        }
      ]
    },
    {
      "cell_type": "markdown",
      "source": [
        "- Mengevaluasi model"
      ],
      "metadata": {
        "id": "9jrrHyMZo77A"
      }
    },
    {
      "cell_type": "code",
      "source": [
        "print(\"Hasil Evaluasi Model:\")\n",
        "loss, accuracy = model.evaluate(X_train_processed, y_train, verbose=0)\n",
        "print(f\"Akurasi Training: {accuracy*100:.2f}%\")\n",
        "\n",
        "loss_val, accuracy_val = model.evaluate(X_val_processed, y_val, verbose=0)\n",
        "print(f\"Akurasi Validasi: {accuracy_val*100:.2f}%\")"
      ],
      "metadata": {
        "colab": {
          "base_uri": "https://localhost:8080/"
        },
        "id": "bE6Ci5m6fQZ2",
        "outputId": "06cefd04-dd26-4071-aa82-798a4543f864"
      },
      "execution_count": 15,
      "outputs": [
        {
          "output_type": "stream",
          "name": "stdout",
          "text": [
            "Hasil Evaluasi Model:\n",
            "Akurasi Training: 93.31%\n",
            "Akurasi Validasi: 86.67%\n"
          ]
        }
      ]
    },
    {
      "cell_type": "markdown",
      "source": [
        "Perbedaan antara akurasi training (93.31%) dan akurasi validasi (86.67%) menunjukkan adanya kesenjangan kinerja. Model berkinerja lebih baik pada data yang sudah dikenalnya (training) dibandingkan data baru (validasi). Ini menunjukkan bahwa ada indikasi *overfitting*."
      ],
      "metadata": {
        "id": "qLoYLqmDEs88"
      }
    },
    {
      "cell_type": "markdown",
      "source": [
        "- Membuat plot untuk akurasi dan loss\n",
        "\n",
        "Di bawah ini adalah plot akurasi:"
      ],
      "metadata": {
        "id": "zfdtv0AYpATa"
      }
    },
    {
      "cell_type": "code",
      "source": [
        "plt.figure(figsize=(12, 5))\n",
        "\n",
        "plt.subplot(1, 2, 1)\n",
        "plt.plot(history.history['accuracy'], label='Akurasi Training')\n",
        "plt.plot(history.history['val_accuracy'], label='Akurasi Validasi')\n",
        "plt.title('Plot Akurasi Model')\n",
        "plt.xlabel('Epoch')\n",
        "plt.ylabel('Akurasi')\n",
        "plt.legend()\n",
        "plt.grid(True)"
      ],
      "metadata": {
        "colab": {
          "base_uri": "https://localhost:8080/",
          "height": 487
        },
        "id": "hAtwqN91fVTb",
        "outputId": "75b29465-28e8-4b1a-bdd7-ec542f8e0ae3"
      },
      "execution_count": 16,
      "outputs": [
        {
          "output_type": "display_data",
          "data": {
            "text/plain": [
              "<Figure size 1200x500 with 1 Axes>"
            ],
            "image/png": "[encoded data removed]"
          },
          "metadata": {}
        }
      ]
    },
    {
      "cell_type": "markdown",
      "source": [
        "Dari plot tersebut, kita bisa melihat bahwa akurasi pelatihan meningkat secara konsisten seiring berjalannya waktu, menunjukkan bahwa model belajar dengan baik dari data latihan. Namun, akurasi validasi cenderung stabil setelah beberapa epoch awal dan tidak meningkat sebanyak akurasi pelatihan. Ini bisa menjadi tanda overfitting, di mana model terlalu \"menghafal\" data latihan dan kurang baik dalam menggeneralisasikan pada data baru (data validasi)."
      ],
      "metadata": {
        "id": "NPe9xubBC79x"
      }
    },
    {
      "cell_type": "markdown",
      "source": [
        "- Plot Loss Model"
      ],
      "metadata": {
        "id": "qCgCBO0NpDRy"
      }
    },
    {
      "cell_type": "code",
      "source": [
        "plt.subplot(1, 2, 2)\n",
        "plt.plot(history.history['loss'], label='Loss Training')\n",
        "plt.plot(history.history['val_loss'], label='Loss Validasi')\n",
        "plt.title('Plot Loss Model')\n",
        "plt.xlabel('Epoch')\n",
        "plt.ylabel('Loss')\n",
        "plt.legend()\n",
        "plt.grid(True)\n",
        "\n",
        "plt.tight_layout()\n",
        "plt.show()"
      ],
      "metadata": {
        "colab": {
          "base_uri": "https://localhost:8080/",
          "height": 487
        },
        "id": "KA7D37lQfb3X",
        "outputId": "3873d3c8-013b-4cfa-f631-c77e9fe1265c"
      },
      "execution_count": 17,
      "outputs": [
        {
          "output_type": "display_data",
          "data": {
            "text/plain": [
              "<Figure size 640x480 with 1 Axes>"
            ],
            "image/png": "[encoded data removed]"
          },
          "metadata": {}
        }
      ]
    },
    {
      "cell_type": "markdown",
      "source": [
        "Dari plot tersebut, kita bisa melihat bahwa loss pelatihan terus menurun, yang menunjukkan bahwa model terus belajar dan mengurangi kesalahannya pada data latihan. Namun, loss validasi menurun pada awalnya tetapi kemudian mulai meningkat setelah beberapa epoch. Peningkatan loss validasi sementara loss pelatihan terus menurun adalah indikasi kuat adanya *overfitting*. Ini berarti model menjadi terlalu spesifik pada data latihan dan kehilangan kemampuannya untuk berkinerja baik pada data yang belum pernah dilihat sebelumnya (data validasi)."
      ],
      "metadata": {
        "id": "nSQoCGRiDN8p"
      }
    }
  ]
}